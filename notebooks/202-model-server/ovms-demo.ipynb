{
 "cells": [
  {
   "cell_type": "markdown",
   "id": "3a99da8d",
   "metadata": {},
   "source": [
    "# OpenVINO Model Server in OpenShift demo\n",
    "\n",
    "This notebook demonstrate how to deploy and use OpenVINO Model Server.\n",
    "That will include the use case with BERT model and a pipeline performing face detection operation and also age, gender and emotion recognition for each detected face.\n",
    "\n",
    "Requirements:\n",
    "- OpenShift cluster with the API access to a project\n",
    "- installed OpenVINO Model Server Operator\n",
    "- Jupyter session with python3 deployed in the cluster"
   ]
  },
  {
   "cell_type": "markdown",
   "id": "b0501c1f",
   "metadata": {},
   "source": [
    "## Creating Minio storage\n",
    "\n",
    "OpenVINO Model Server can expose over gRPC and REST interface the models stored in the local or cloud storage like AWS S3, google storage or Azure blobs. In OpenShift and Kubernetes every Persistent Storage Claim could be used as well. In this demo will be employed Minio service which is an equivalent of AWS S3.\n",
    "\n",
    "First login to OpenShift cluster API using `oc` tool. In the commands below change the cluster DNS name and the user token."
   ]
  },
  {
   "cell_type": "code",
   "execution_count": 1,
   "id": "a827216c",
   "metadata": {},
   "outputs": [],
   "source": [
    "!curl -s https://downloads-openshift-console.apps.<cluster DNS name>/amd64/linux/oc.tar | tar x"
   ]
  },
  {
   "cell_type": "code",
   "execution_count": 2,
   "id": "11737c9f",
   "metadata": {},
   "outputs": [
    {
     "name": "stdout",
     "output_type": "stream",
     "text": [
      "Logged into \"https://api.openvino5.3q12.p1.openshiftapps.com:6443\" as \"dtrawins\" using the token provided.\n",
      "\n",
      "You have access to 100 projects, the list has been suppressed. You can list all projects with 'oc projects'\n",
      "\n",
      "Using project \"default\".\n"
     ]
    }
   ],
   "source": [
    "!oc login --token=<user token> --server=https://api.<cluster DNS name>:6443"
   ]
  },
  {
   "cell_type": "markdown",
   "id": "c7640dc7",
   "metadata": {},
   "source": [
    "Change the project context where you would like to deploy your services."
   ]
  },
  {
   "cell_type": "code",
   "execution_count": 3,
   "id": "e7f5b969",
   "metadata": {},
   "outputs": [
    {
     "name": "stdout",
     "output_type": "stream",
     "text": [
      "Now using project \"ovms\" on server \"https://api.openvino5.3q12.p1.openshiftapps.com:6443\".\n"
     ]
    }
   ],
   "source": [
    "!oc project ovms"
   ]
  },
  {
   "cell_type": "markdown",
   "id": "ed5bd2e6",
   "metadata": {},
   "source": [
    "Now deploy Minio service. Note that the configuration below creates Minio server with emphemeral storage which will be deleted each time the pod is restarted. It includes also the default credentials. All in all, it is only a demonstrative purpose."
   ]
  },
  {
   "cell_type": "code",
   "execution_count": 4,
   "id": "d362a7b7",
   "metadata": {},
   "outputs": [
    {
     "name": "stdout",
     "output_type": "stream",
     "text": [
      "deployment.apps/minio created\n",
      "service/minio-service created\n"
     ]
    }
   ],
   "source": [
    "!oc apply -f https://raw.githubusercontent.com/openvinotoolkit/openvino_notebooks/ovms-demo/notebooks/202-model-server/minio.yaml"
   ]
  },
  {
   "cell_type": "markdown",
   "id": "2d190d78",
   "metadata": {},
   "source": [
    "Next step is to connect to the Minio service and create models repository for the OpenVINO Model Server"
   ]
  },
  {
   "cell_type": "code",
   "execution_count": 5,
   "id": "332e8df0",
   "metadata": {},
   "outputs": [
    {
     "name": "stdout",
     "output_type": "stream",
     "text": [
      "--2021-04-21 15:01:26--  https://dl.min.io/client/mc/release/linux-amd64/mc\n",
      "Resolving dl.min.io (dl.min.io)... 178.128.69.202\n",
      "Connecting to dl.min.io (dl.min.io)|178.128.69.202|:443... connected.\n",
      "HTTP request sent, awaiting response... 200 OK\n",
      "Length: 20426752 (19M) [application/octet-stream]\n",
      "Saving to: ‘mc’\n",
      "\n",
      "mc                  100%[===================>]  19.48M  15.0MB/s    in 1.3s    \n",
      "\n",
      "2021-04-21 15:01:28 (15.0 MB/s) - ‘mc’ saved [20426752/20426752]\n",
      "\n"
     ]
    }
   ],
   "source": [
    "!wget https://dl.min.io/client/mc/release/linux-amd64/mc"
   ]
  },
  {
   "cell_type": "code",
   "execution_count": 6,
   "id": "1855169b",
   "metadata": {},
   "outputs": [],
   "source": [
    "!chmod 755 mc"
   ]
  },
  {
   "cell_type": "markdown",
   "id": "756dbb0f",
   "metadata": {},
   "source": [
    "In the command below make sure you have the correct project name. Replace `ovms` with your project name, where minio got deployed."
   ]
  },
  {
   "cell_type": "code",
   "execution_count": 10,
   "id": "1af4847a",
   "metadata": {},
   "outputs": [
    {
     "name": "stdout",
     "output_type": "stream",
     "text": [
      "\u001b[m\u001b[32mAdded `minio` successfully.\u001b[0m\n",
      "\u001b[0m"
     ]
    }
   ],
   "source": [
    "!./mc alias set minio http://minio-service.ovms:9000 minio minio123"
   ]
  },
  {
   "cell_type": "code",
   "execution_count": 13,
   "id": "33cfe9ae",
   "metadata": {},
   "outputs": [
    {
     "name": "stdout",
     "output_type": "stream",
     "text": [
      "\u001b[m\u001b[32;1mBucket created successfully `minio/models`.\u001b[0m\n",
      "\u001b[0m"
     ]
    }
   ],
   "source": [
    "!./mc mb minio/models"
   ]
  },
  {
   "cell_type": "markdown",
   "id": "53a9b8c0",
   "metadata": {},
   "source": [
    "## Creating models repository\n",
    "\n",
    "While the Minio is available, we can upload the models for serving in the OpenVINO Model Server. In the demos below will be needed 4 models:\n",
    "- [resnet](https://github.com/onnx/models/tree/master/vision/classification/resnet)\n",
    "- [face detection](https://github.com/openvinotoolkit/open_model_zoo/blob/master/models/intel/face-detection-retail-0004/description/face-detection-retail-0004.md)\n",
    "- [age-gender recognition](https://github.com/openvinotoolkit/open_model_zoo/blob/master/models/intel/age-gender-recognition-retail-0013/description/age-gender-recognition-retail-0013.md)\n",
    "- [emotion recognition](https://github.com/openvinotoolkit/open_model_zoo/blob/master/models/intel/emotions-recognition-retail-0003/description/emotions-recognition-retail-0003.md)"
   ]
  },
  {
   "cell_type": "code",
   "execution_count": 16,
   "id": "45e88ea2",
   "metadata": {},
   "outputs": [
    {
     "name": "stdout",
     "output_type": "stream",
     "text": [
      "  % Total    % Received % Xferd  Average Speed   Time    Time     Time  Current\n",
      "                                 Dload  Upload   Total   Spent    Left  Speed\n",
      "100 30901  100 30901    0     0  48662      0 --:--:-- --:--:-- --:--:-- 48586\n",
      "  % Total    % Received % Xferd  Average Speed   Time    Time     Time  Current\n",
      "                                 Dload  Upload   Total   Spent    Left  Speed\n",
      "100 8351k  100 8351k    0     0  8539k      0 --:--:-- --:--:-- --:--:-- 8530k\n",
      "  % Total    % Received % Xferd  Average Speed   Time    Time     Time  Current\n",
      "                                 Dload  Upload   Total   Spent    Left  Speed\n",
      "100  101k  100  101k    0     0   188k      0 --:--:-- --:--:-- --:--:--  188k\n",
      "  % Total    % Received % Xferd  Average Speed   Time    Time     Time  Current\n",
      "                                 Dload  Upload   Total   Spent    Left  Speed\n",
      "100 2297k  100 2297k    0     0  2429k      0 --:--:-- --:--:-- --:--:-- 2426k\n",
      "  % Total    % Received % Xferd  Average Speed   Time    Time     Time  Current\n",
      "                                 Dload  Upload   Total   Spent    Left  Speed\n",
      "100 39391  100 39391    0     0   282k      0 --:--:-- --:--:-- --:--:--  282k\n",
      "  % Total    % Received % Xferd  Average Speed   Time    Time     Time  Current\n",
      "                                 Dload  Upload   Total   Spent    Left  Speed\n",
      "100 9697k  100 9697k    0     0  9976k      0 --:--:-- --:--:-- --:--:-- 9966k\n"
     ]
    }
   ],
   "source": [
    "!curl --create-dirs https://storage.openvinotoolkit.org/repositories/open_model_zoo/2021.3/models_bin/2/age-gender-recognition-retail-0013/FP32/age-gender-recognition-retail-0013.xml -o age-gender/1/age-gender-recognition-retail-0013.xml \n",
    "!curl --create-dirs https://storage.openvinotoolkit.org/repositories/open_model_zoo/2021.3/models_bin/2/age-gender-recognition-retail-0013/FP32/age-gender-recognition-retail-0013.bin -o age-gender/1/age-gender-recognition-retail-0013.bin\n",
    "!curl --create-dirs https://storage.openvinotoolkit.org/repositories/open_model_zoo/2021.3/models_bin/2/face-detection-retail-0004/FP32/face-detection-retail-0004.xml -o face-detection/1/face-detection-retail-0004.xml\n",
    "!curl --create-dirs https://storage.openvinotoolkit.org/repositories/open_model_zoo/2021.3/models_bin/2/face-detection-retail-0004/FP32/face-detection-retail-0004.bin -o face-detection/1/face-detection-retail-0004.bin\n",
    "!curl --create-dirs https://storage.openvinotoolkit.org/repositories/open_model_zoo/2021.3/models_bin/2/emotions-recognition-retail-0003/FP32/emotions-recognition-retail-0003.xml -o emotions/1/emotions-recognition-retail-0003.xml\n",
    "!curl --create-dirs https://storage.openvinotoolkit.org/repositories/open_model_zoo/2021.3/models_bin/2/emotions-recognition-retail-0003/FP32/emotions-recognition-retail-0003.bin -o emotions/1/emotions-recognition-retail-0003.xml\n",
    "!curl -L --create-dir https://github.com/onnx/models/raw/master/vision/classification/resnet/model/resnet50-caffe2-v1-9.onnx -o resnet/1/resnet50-caffe2-v1-9.onnx"
   ]
  },
  {
   "cell_type": "code",
   "execution_count": 20,
   "id": "eef6b4a4",
   "metadata": {},
   "outputs": [
    {
     "name": "stdout",
     "output_type": "stream",
     "text": [
      "...-0003.xml:  18.98 MiB / 18.98 MiB ┃▓▓▓▓▓▓▓▓▓▓▓▓▓▓▓▓▓▓▓▓▓▓▓▓▓┃ 223.99 MiB/s 0s\u001b[0m\u001b[0m\u001b[m\u001b[32;1m\u001b[m\u001b[32;1m\u001b[m\u001b[32;1m\u001b[m\u001b[32;1m\u001b[m\u001b[32;1m"
     ]
    }
   ],
   "source": [
    "!./mc cp --recursive age-gender minio/models/\n",
    "!./mc cp --recursive face-detection minio/models/\n",
    "!./mc cp --recursive emotion minio/models/\n",
    "!./mc cp --recursive resnet minio/models/"
   ]
  },
  {
   "cell_type": "code",
   "execution_count": 34,
   "id": "dd09bb14",
   "metadata": {},
   "outputs": [
    {
     "name": "stdout",
     "output_type": "stream",
     "text": [
      "\u001b[m\u001b[32m[2021-04-21 15:58:35 UTC]\u001b[0m\u001b[33m 8.2MiB\u001b[0m\u001b[1m age-gender/1/age-gender-recognition-retail-0013.bin\u001b[0m\n",
      "\u001b[0m\u001b[m\u001b[32m[2021-04-21 15:58:35 UTC]\u001b[0m\u001b[33m  30KiB\u001b[0m\u001b[1m age-gender/1/age-gender-recognition-retail-0013.xml\u001b[0m\n",
      "\u001b[0m\u001b[m\u001b[32m[2021-04-21 15:58:36 UTC]\u001b[0m\u001b[33m 9.5MiB\u001b[0m\u001b[1m emotions/1/emotions-recognition-retail-0003.xml\u001b[0m\n",
      "\u001b[0m\u001b[m\u001b[32m[2021-04-21 15:58:36 UTC]\u001b[0m\u001b[33m 2.2MiB\u001b[0m\u001b[1m face-detection/1/face-detection-retail-0004.bin\u001b[0m\n",
      "\u001b[0m\u001b[m\u001b[32m[2021-04-21 15:58:36 UTC]\u001b[0m\u001b[33m 102KiB\u001b[0m\u001b[1m face-detection/1/face-detection-retail-0004.xml\u001b[0m\n",
      "\u001b[0m\u001b[m\u001b[32m[2021-04-21 20:37:26 UTC]\u001b[0m\u001b[33m 101KiB\u001b[0m\u001b[1m resnet/1/resnet50-caffe2-v1-9.onnx\u001b[0m\n",
      "\u001b[0m"
     ]
    }
   ],
   "source": [
    "!./mc ls -r minio/models/"
   ]
  },
  {
   "cell_type": "markdown",
   "id": "200843d1",
   "metadata": {},
   "source": [
    "With the model repository created, we can move on the deploying OpenVINO Model Server in the cluster.\n",
    "\n",
    "## OpenVINO Model Server deployment with a single model\n",
    "\n",
    "The first scenario will be with a serving a single model. In the demo, there will be performed image classification using ResNet50 model in ONNX format.\n",
    "\n",
    "While the operator in place, starting the inference service is easy:"
   ]
  },
  {
   "cell_type": "code",
   "execution_count": 76,
   "id": "2e92c023",
   "metadata": {},
   "outputs": [
    {
     "name": "stdout",
     "output_type": "stream",
     "text": [
      "apiVersion: intel.com/v1alpha1\n",
      "kind: Ovms\n",
      "metadata:\n",
      "  name: ovms-resnet\n",
      "spec:\n",
      "  aws_access_key_id: \"minio\"\n",
      "  aws_region: \"us-east-1\"\n",
      "  aws_secret_access_key: \"minio123\"\n",
      "  grpc_port: 8080\n",
      "  image_name: registry.connect.redhat.com/intel/openvino-model-server:latest\n",
      "  log_level: INFO\n",
      "  model_name: \"resnet\"\n",
      "  model_path: \"s3://minio-service:9000/models/resnet\"\n",
      "  plugin_config: '{\\\"CPU_THROUGHPUT_STREAMS\\\":\\\"1\\\"}'\n",
      "  replicas: 1\n",
      "  resources:\n",
      "    limits:\n",
      "      cpu: 4\n",
      "      memory: 500Mi\n",
      "  rest_port: 8081\n",
      "  service_type: ClusterIP\n"
     ]
    }
   ],
   "source": [
    "!curl -s https://raw.githubusercontent.com/openvinotoolkit/openvino_notebooks/ovms-demo/notebooks/202-model-server/ovms-resnet.yaml"
   ]
  },
  {
   "cell_type": "code",
   "execution_count": 77,
   "id": "9299cfac",
   "metadata": {},
   "outputs": [
    {
     "name": "stdout",
     "output_type": "stream",
     "text": [
      "ovms.intel.com/ovms-resnet configured\n"
     ]
    }
   ],
   "source": [
    "!oc apply -f https://raw.githubusercontent.com/openvinotoolkit/openvino_notebooks/ovms-demo/notebooks/202-model-server/ovms-resnet.yaml"
   ]
  },
  {
   "cell_type": "code",
   "execution_count": 80,
   "id": "10d90818",
   "metadata": {},
   "outputs": [
    {
     "name": "stdout",
     "output_type": "stream",
     "text": [
      "NAME                           READY     STATUS    RESTARTS   AGE\n",
      "minio-5c57f888dd-9q7k8         1/1       Running   0          7h20m\n",
      "ovms-resnet-7cdb696f7b-jb6lf   1/1       Running   0          56s\n",
      "NAME            TYPE        CLUSTER-IP       EXTERNAL-IP   PORT(S)             AGE\n",
      "minio-service   ClusterIP   172.30.116.144   <none>        9000/TCP            7h20m\n",
      "ovms-resnet     ClusterIP   172.30.95.150    <none>        8080/TCP,8081/TCP   33m\n"
     ]
    }
   ],
   "source": [
    "!oc get pod\n",
    "!oc get service"
   ]
  },
  {
   "cell_type": "markdown",
   "id": "62ec7549",
   "metadata": {},
   "source": [
    "With those steps, OpenVINO Model Server is running and is ready to accept inference requests. The status of models can be queries with a simple REST API calls:"
   ]
  },
  {
   "cell_type": "code",
   "execution_count": 87,
   "id": "4b22288d",
   "metadata": {},
   "outputs": [
    {
     "name": "stdout",
     "output_type": "stream",
     "text": [
      "{\n",
      " \"model_version_status\": [\n",
      "  {\n",
      "   \"version\": \"1\",\n",
      "   \"state\": \"AVAILABLE\",\n",
      "   \"status\": {\n",
      "    \"error_code\": \"OK\",\n",
      "    \"error_message\": \"OK\"\n",
      "   }\n",
      "  }\n",
      " ]\n",
      "}\n"
     ]
    }
   ],
   "source": [
    "!curl http://ovms-resnet.ovms.svc:8081/v1/models/resnet"
   ]
  },
  {
   "cell_type": "code",
   "execution_count": 88,
   "id": "0ec58fbd",
   "metadata": {},
   "outputs": [
    {
     "name": "stdout",
     "output_type": "stream",
     "text": [
      "{\n",
      " \"modelSpec\": {\n",
      "  \"name\": \"resnet\",\n",
      "  \"signatureName\": \"\",\n",
      "  \"version\": \"1\"\n",
      " },\n",
      " \"metadata\": {\n",
      "  \"signature_def\": {\n",
      "   \"@type\": \"type.googleapis.com/tensorflow.serving.SignatureDefMap\",\n",
      "   \"signatureDef\": {\n",
      "    \"serving_default\": {\n",
      "     \"inputs\": {\n",
      "      \"gpu_0/data_0\": {\n",
      "       \"dtype\": \"DT_FLOAT\",\n",
      "       \"tensorShape\": {\n",
      "        \"dim\": [\n",
      "         {\n",
      "          \"size\": \"1\",\n",
      "          \"name\": \"\"\n",
      "         },\n",
      "         {\n",
      "          \"size\": \"3\",\n",
      "          \"name\": \"\"\n",
      "         },\n",
      "         {\n",
      "          \"size\": \"224\",\n",
      "          \"name\": \"\"\n",
      "         },\n",
      "         {\n",
      "          \"size\": \"224\",\n",
      "          \"name\": \"\"\n",
      "         }\n",
      "        ],\n",
      "        \"unknownRank\": false\n",
      "       },\n",
      "       \"name\": \"gpu_0/data_0\"\n",
      "      }\n",
      "     },\n",
      "     \"outputs\": {\n",
      "      \"gpu_0/softmax_1\": {\n",
      "       \"dtype\": \"DT_FLOAT\",\n",
      "       \"tensorShape\": {\n",
      "        \"dim\": [\n",
      "         {\n",
      "          \"size\": \"1\",\n",
      "          \"name\": \"\"\n",
      "         },\n",
      "         {\n",
      "          \"size\": \"1000\",\n",
      "          \"name\": \"\"\n",
      "         }\n",
      "        ],\n",
      "        \"unknownRank\": false\n",
      "       },\n",
      "       \"name\": \"gpu_0/softmax_1\"\n",
      "      }\n",
      "     },\n",
      "     \"methodName\": \"\"\n",
      "    }\n",
      "   }\n",
      "  }\n",
      " }\n",
      "}\n"
     ]
    }
   ],
   "source": [
    "!curl http://ovms-resnet.ovms.svc:8081/v1/models/resnet/metadata"
   ]
  },
  {
   "cell_type": "markdown",
   "id": "15695d6e",
   "metadata": {},
   "source": [
    "## Running predition requests"
   ]
  },
  {
   "cell_type": "code",
   "execution_count": 91,
   "id": "ab71ceba",
   "metadata": {},
   "outputs": [
    {
     "name": "stdout",
     "output_type": "stream",
     "text": [
      "Cloning into 'model_server'...\n",
      "remote: Enumerating objects: 571, done.\u001b[K\n",
      "remote: Counting objects: 100% (571/571), done.\u001b[K\n",
      "remote: Compressing objects: 100% (492/492), done.\u001b[K\n",
      "remote: Total 571 (delta 147), reused 262 (delta 57), pack-reused 0\u001b[K\n",
      "Receiving objects: 100% (571/571), 3.75 MiB | 38.45 MiB/s, done.\n",
      "Resolving deltas: 100% (147/147), done.\n"
     ]
    }
   ],
   "source": [
    "!git clone --depth=1 https://github.com/openvinotoolkit/model_server"
   ]
  },
  {
   "cell_type": "code",
   "execution_count": null,
   "id": "dac28aff",
   "metadata": {},
   "outputs": [],
   "source": []
  }
 ],
 "metadata": {
  "kernelspec": {
   "display_name": "Python 3",
   "language": "python",
   "name": "python3"
  },
  "language_info": {
   "codemirror_mode": {
    "name": "ipython",
    "version": 3
   },
   "file_extension": ".py",
   "mimetype": "text/x-python",
   "name": "python",
   "nbconvert_exporter": "python",
   "pygments_lexer": "ipython3",
   "version": "3.8.3"
  }
 },
 "nbformat": 4,
 "nbformat_minor": 5
}
